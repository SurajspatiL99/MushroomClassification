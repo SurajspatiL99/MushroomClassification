{
 "cells": [
  {
   "cell_type": "code",
   "execution_count": 1,
   "id": "8b2b0ae2",
   "metadata": {},
   "outputs": [],
   "source": [
    "import math\n",
    "import pandas as pd\n",
    "import numpy as np\n",
    "from tqdm import tqdm\n",
    "import matplotlib.pyplot as plt\n",
    "import seaborn as sns\n",
    "from sklearn.model_selection import train_test_split\n",
    "from sklearn.metrics import confusion_matrix\n",
    "from collections import Counter"
   ]
  },
  {
   "cell_type": "code",
   "execution_count": 2,
   "id": "fef2123c",
   "metadata": {},
   "outputs": [],
   "source": [
    "df = pd.read_csv('secondary_data.csv', delimiter=';')"
   ]
  },
  {
   "cell_type": "code",
   "execution_count": 3,
   "id": "49c2363b",
   "metadata": {},
   "outputs": [
    {
     "data": {
      "text/plain": [
       "class                    0.000000\n",
       "cap-diameter             0.000000\n",
       "cap-shape                0.000000\n",
       "cap-surface             23.121387\n",
       "cap-color                0.000000\n",
       "does-bruise-or-bleed     0.000000\n",
       "gill-attachment         16.184971\n",
       "gill-spacing            41.040462\n",
       "gill-color               0.000000\n",
       "stem-height              0.000000\n",
       "stem-width               0.000000\n",
       "stem-root               84.393064\n",
       "stem-surface            62.427746\n",
       "stem-color               0.000000\n",
       "veil-type               94.797688\n",
       "veil-color              87.861272\n",
       "has-ring                 0.000000\n",
       "ring-type                4.046243\n",
       "spore-print-color       89.595376\n",
       "habitat                  0.000000\n",
       "season                   0.000000\n",
       "dtype: float64"
      ]
     },
     "execution_count": 3,
     "metadata": {},
     "output_type": "execute_result"
    }
   ],
   "source": [
    "na_count=df.isna().sum()*100/df.shape[0]\n",
    "na_count"
   ]
  },
  {
   "cell_type": "code",
   "execution_count": 4,
   "id": "670ee514",
   "metadata": {},
   "outputs": [],
   "source": [
    "#Drop the variables which have more than 80% missing values\n",
    "x=pd.DataFrame(data=na_count,columns=[\"Missing Values\"]).reset_index()\n",
    "x.rename(columns={\"index\":\"Column\"}, inplace=True)\n",
    "y=x[x[\"Missing Values\"]>80]\n",
    "df1=df.drop(y[\"Column\"],axis=1)"
   ]
  },
  {
   "cell_type": "code",
   "execution_count": 5,
   "id": "6c5ea6fb",
   "metadata": {},
   "outputs": [
    {
     "data": {
      "text/html": [
       "<div>\n",
       "<style scoped>\n",
       "    .dataframe tbody tr th:only-of-type {\n",
       "        vertical-align: middle;\n",
       "    }\n",
       "\n",
       "    .dataframe tbody tr th {\n",
       "        vertical-align: top;\n",
       "    }\n",
       "\n",
       "    .dataframe thead th {\n",
       "        text-align: right;\n",
       "    }\n",
       "</style>\n",
       "<table border=\"1\" class=\"dataframe\">\n",
       "  <thead>\n",
       "    <tr style=\"text-align: right;\">\n",
       "      <th></th>\n",
       "      <th>class</th>\n",
       "      <th>cap-diameter</th>\n",
       "      <th>cap-shape</th>\n",
       "      <th>cap-surface</th>\n",
       "      <th>cap-color</th>\n",
       "      <th>does-bruise-or-bleed</th>\n",
       "      <th>gill-attachment</th>\n",
       "      <th>gill-spacing</th>\n",
       "      <th>gill-color</th>\n",
       "      <th>stem-height</th>\n",
       "      <th>stem-width</th>\n",
       "      <th>stem-surface</th>\n",
       "      <th>stem-color</th>\n",
       "      <th>has-ring</th>\n",
       "      <th>ring-type</th>\n",
       "      <th>habitat</th>\n",
       "      <th>season</th>\n",
       "    </tr>\n",
       "  </thead>\n",
       "  <tbody>\n",
       "    <tr>\n",
       "      <th>0</th>\n",
       "      <td>p</td>\n",
       "      <td>15.26</td>\n",
       "      <td>x</td>\n",
       "      <td>g</td>\n",
       "      <td>o</td>\n",
       "      <td>f</td>\n",
       "      <td>e</td>\n",
       "      <td>Unknown</td>\n",
       "      <td>w</td>\n",
       "      <td>16.95</td>\n",
       "      <td>17.09</td>\n",
       "      <td>y</td>\n",
       "      <td>w</td>\n",
       "      <td>t</td>\n",
       "      <td>g</td>\n",
       "      <td>d</td>\n",
       "      <td>w</td>\n",
       "    </tr>\n",
       "    <tr>\n",
       "      <th>1</th>\n",
       "      <td>p</td>\n",
       "      <td>16.60</td>\n",
       "      <td>x</td>\n",
       "      <td>g</td>\n",
       "      <td>o</td>\n",
       "      <td>f</td>\n",
       "      <td>e</td>\n",
       "      <td>Unknown</td>\n",
       "      <td>w</td>\n",
       "      <td>17.99</td>\n",
       "      <td>18.19</td>\n",
       "      <td>y</td>\n",
       "      <td>w</td>\n",
       "      <td>t</td>\n",
       "      <td>g</td>\n",
       "      <td>d</td>\n",
       "      <td>u</td>\n",
       "    </tr>\n",
       "    <tr>\n",
       "      <th>2</th>\n",
       "      <td>p</td>\n",
       "      <td>14.07</td>\n",
       "      <td>x</td>\n",
       "      <td>g</td>\n",
       "      <td>o</td>\n",
       "      <td>f</td>\n",
       "      <td>e</td>\n",
       "      <td>Unknown</td>\n",
       "      <td>w</td>\n",
       "      <td>17.80</td>\n",
       "      <td>17.74</td>\n",
       "      <td>y</td>\n",
       "      <td>w</td>\n",
       "      <td>t</td>\n",
       "      <td>g</td>\n",
       "      <td>d</td>\n",
       "      <td>w</td>\n",
       "    </tr>\n",
       "    <tr>\n",
       "      <th>3</th>\n",
       "      <td>p</td>\n",
       "      <td>14.17</td>\n",
       "      <td>f</td>\n",
       "      <td>h</td>\n",
       "      <td>e</td>\n",
       "      <td>f</td>\n",
       "      <td>e</td>\n",
       "      <td>Unknown</td>\n",
       "      <td>w</td>\n",
       "      <td>15.77</td>\n",
       "      <td>15.98</td>\n",
       "      <td>y</td>\n",
       "      <td>w</td>\n",
       "      <td>t</td>\n",
       "      <td>p</td>\n",
       "      <td>d</td>\n",
       "      <td>w</td>\n",
       "    </tr>\n",
       "    <tr>\n",
       "      <th>4</th>\n",
       "      <td>p</td>\n",
       "      <td>14.64</td>\n",
       "      <td>x</td>\n",
       "      <td>h</td>\n",
       "      <td>o</td>\n",
       "      <td>f</td>\n",
       "      <td>e</td>\n",
       "      <td>Unknown</td>\n",
       "      <td>w</td>\n",
       "      <td>16.53</td>\n",
       "      <td>17.20</td>\n",
       "      <td>y</td>\n",
       "      <td>w</td>\n",
       "      <td>t</td>\n",
       "      <td>p</td>\n",
       "      <td>d</td>\n",
       "      <td>w</td>\n",
       "    </tr>\n",
       "  </tbody>\n",
       "</table>\n",
       "</div>"
      ],
      "text/plain": [
       "  class  cap-diameter cap-shape cap-surface cap-color does-bruise-or-bleed  \\\n",
       "0     p         15.26         x           g         o                    f   \n",
       "1     p         16.60         x           g         o                    f   \n",
       "2     p         14.07         x           g         o                    f   \n",
       "3     p         14.17         f           h         e                    f   \n",
       "4     p         14.64         x           h         o                    f   \n",
       "\n",
       "  gill-attachment gill-spacing gill-color  stem-height  stem-width  \\\n",
       "0               e      Unknown          w        16.95       17.09   \n",
       "1               e      Unknown          w        17.99       18.19   \n",
       "2               e      Unknown          w        17.80       17.74   \n",
       "3               e      Unknown          w        15.77       15.98   \n",
       "4               e      Unknown          w        16.53       17.20   \n",
       "\n",
       "  stem-surface stem-color has-ring ring-type habitat season  \n",
       "0            y          w        t         g       d      w  \n",
       "1            y          w        t         g       d      u  \n",
       "2            y          w        t         g       d      w  \n",
       "3            y          w        t         p       d      w  \n",
       "4            y          w        t         p       d      w  "
      ]
     },
     "execution_count": 5,
     "metadata": {},
     "output_type": "execute_result"
    }
   ],
   "source": [
    "##imputing \"Unknown\" class to all the remaining null values\n",
    "df2 = df1.fillna(\"Unknown\")\n",
    "df2.head()"
   ]
  },
  {
   "cell_type": "code",
   "execution_count": 6,
   "id": "d24927bb",
   "metadata": {},
   "outputs": [
    {
     "data": {
      "text/html": [
       "<div>\n",
       "<style scoped>\n",
       "    .dataframe tbody tr th:only-of-type {\n",
       "        vertical-align: middle;\n",
       "    }\n",
       "\n",
       "    .dataframe tbody tr th {\n",
       "        vertical-align: top;\n",
       "    }\n",
       "\n",
       "    .dataframe thead th {\n",
       "        text-align: right;\n",
       "    }\n",
       "</style>\n",
       "<table border=\"1\" class=\"dataframe\">\n",
       "  <thead>\n",
       "    <tr style=\"text-align: right;\">\n",
       "      <th></th>\n",
       "      <th>cap-diameter</th>\n",
       "      <th>stem-height</th>\n",
       "      <th>stem-width</th>\n",
       "    </tr>\n",
       "  </thead>\n",
       "  <tbody>\n",
       "    <tr>\n",
       "      <th>count</th>\n",
       "      <td>61069.000000</td>\n",
       "      <td>61069.000000</td>\n",
       "      <td>61069.000000</td>\n",
       "    </tr>\n",
       "    <tr>\n",
       "      <th>mean</th>\n",
       "      <td>6.733854</td>\n",
       "      <td>6.581538</td>\n",
       "      <td>12.149410</td>\n",
       "    </tr>\n",
       "    <tr>\n",
       "      <th>std</th>\n",
       "      <td>5.264845</td>\n",
       "      <td>3.370017</td>\n",
       "      <td>10.035955</td>\n",
       "    </tr>\n",
       "    <tr>\n",
       "      <th>min</th>\n",
       "      <td>0.380000</td>\n",
       "      <td>0.000000</td>\n",
       "      <td>0.000000</td>\n",
       "    </tr>\n",
       "    <tr>\n",
       "      <th>25%</th>\n",
       "      <td>3.480000</td>\n",
       "      <td>4.640000</td>\n",
       "      <td>5.210000</td>\n",
       "    </tr>\n",
       "    <tr>\n",
       "      <th>50%</th>\n",
       "      <td>5.860000</td>\n",
       "      <td>5.950000</td>\n",
       "      <td>10.190000</td>\n",
       "    </tr>\n",
       "    <tr>\n",
       "      <th>75%</th>\n",
       "      <td>8.540000</td>\n",
       "      <td>7.740000</td>\n",
       "      <td>16.570000</td>\n",
       "    </tr>\n",
       "    <tr>\n",
       "      <th>max</th>\n",
       "      <td>62.340000</td>\n",
       "      <td>33.920000</td>\n",
       "      <td>103.910000</td>\n",
       "    </tr>\n",
       "  </tbody>\n",
       "</table>\n",
       "</div>"
      ],
      "text/plain": [
       "       cap-diameter   stem-height    stem-width\n",
       "count  61069.000000  61069.000000  61069.000000\n",
       "mean       6.733854      6.581538     12.149410\n",
       "std        5.264845      3.370017     10.035955\n",
       "min        0.380000      0.000000      0.000000\n",
       "25%        3.480000      4.640000      5.210000\n",
       "50%        5.860000      5.950000     10.190000\n",
       "75%        8.540000      7.740000     16.570000\n",
       "max       62.340000     33.920000    103.910000"
      ]
     },
     "execution_count": 6,
     "metadata": {},
     "output_type": "execute_result"
    }
   ],
   "source": [
    "df2.describe()"
   ]
  },
  {
   "cell_type": "code",
   "execution_count": 7,
   "id": "bce7cb51",
   "metadata": {},
   "outputs": [
    {
     "data": {
      "text/plain": [
       "p    33888\n",
       "e    27181\n",
       "Name: class, dtype: int64"
      ]
     },
     "execution_count": 7,
     "metadata": {},
     "output_type": "execute_result"
    }
   ],
   "source": [
    "#Target Class: To check if dataset is imbalanced\n",
    "target_class = df2[\"class\"].value_counts()\n",
    "target_class"
   ]
  },
  {
   "cell_type": "code",
   "execution_count": 8,
   "id": "02b3991a",
   "metadata": {
    "scrolled": false
   },
   "outputs": [
    {
     "data": {
      "image/png": "[encoded data removed]",
      "text/plain": [
       "<Figure size 200x200 with 1 Axes>"
      ]
     },
     "metadata": {},
     "output_type": "display_data"
    },
    {
     "data": {
      "image/png": "[encoded data removed]",
      "text/plain": [
       "<Figure size 200x200 with 1 Axes>"
      ]
     },
     "metadata": {},
     "output_type": "display_data"
    },
    {
     "data": {
      "image/png": "[encoded data removed]",
      "text/plain": [
       "<Figure size 200x200 with 1 Axes>"
      ]
     },
     "metadata": {},
     "output_type": "display_data"
    },
    {
     "data": {
      "image/png": "[encoded data removed]",
      "text/plain": [
       "<Figure size 200x200 with 1 Axes>"
      ]
     },
     "metadata": {},
     "output_type": "display_data"
    },
    {
     "data": {
      "image/png": "[encoded data removed]",
      "text/plain": [
       "<Figure size 200x200 with 1 Axes>"
      ]
     },
     "metadata": {},
     "output_type": "display_data"
    },
    {
     "data": {
      "image/png": "[encoded data removed]",
      "text/plain": [
       "<Figure size 200x200 with 1 Axes>"
      ]
     },
     "metadata": {},
     "output_type": "display_data"
    },
    {
     "data": {
      "image/png": "[encoded data removed]",
      "text/plain": [
       "<Figure size 200x200 with 1 Axes>"
      ]
     },
     "metadata": {},
     "output_type": "display_data"
    },
    {
     "data": {
      "image/png": "[encoded data removed]",
      "text/plain": [
       "<Figure size 200x200 with 1 Axes>"
      ]
     },
     "metadata": {},
     "output_type": "display_data"
    },
    {
     "data": {
      "image/png": "[encoded data removed]",
      "text/plain": [
       "<Figure size 200x200 with 1 Axes>"
      ]
     },
     "metadata": {},
     "output_type": "display_data"
    },
    {
     "data": {
      "image/png": "[encoded data removed]",
      "text/plain": [
       "<Figure size 200x200 with 1 Axes>"
      ]
     },
     "metadata": {},
     "output_type": "display_data"
    },
    {
     "data": {
      "image/png": "[encoded data removed]",
      "text/plain": [
       "<Figure size 200x200 with 1 Axes>"
      ]
     },
     "metadata": {},
     "output_type": "display_data"
    },
    {
     "data": {
      "image/png": "[encoded data removed]",
      "text/plain": [
       "<Figure size 200x200 with 1 Axes>"
      ]
     },
     "metadata": {},
     "output_type": "display_data"
    },
    {
     "data": {
      "image/png": "[encoded data removed]",
      "text/plain": [
       "<Figure size 200x200 with 1 Axes>"
      ]
     },
     "metadata": {},
     "output_type": "display_data"
    },
    {
     "data": {
      "image/png": "[encoded data removed]",
      "text/plain": [
       "<Figure size 200x200 with 1 Axes>"
      ]
     },
     "metadata": {},
     "output_type": "display_data"
    },
    {
     "data": {
      "image/png": "[encoded data removed]",
      "text/plain": [
       "<Figure size 200x200 with 1 Axes>"
      ]
     },
     "metadata": {},
     "output_type": "display_data"
    },
    {
     "data": {
      "image/png": "[encoded data removed]",
      "text/plain": [
       "<Figure size 200x200 with 1 Axes>"
      ]
     },
     "metadata": {},
     "output_type": "display_data"
    },
    {
     "data": {
      "image/png": "[encoded data removed]",
      "text/plain": [
       "<Figure size 200x200 with 1 Axes>"
      ]
     },
     "metadata": {},
     "output_type": "display_data"
    }
   ],
   "source": [
    "for i, cols in enumerate(df2):\n",
    "    feature_count = df2[cols].value_counts()\n",
    "    \n",
    "    plt.figure(i, figsize=(2,2))\n",
    "    sns.barplot(x = feature_count.index, y = feature_count)"
   ]
  },
  {
   "cell_type": "code",
   "execution_count": 9,
   "id": "28f950b2",
   "metadata": {},
   "outputs": [],
   "source": [
    "#One-Hot Encoding\n",
    "cat_var= ['cap-shape', 'cap-surface', 'cap-color', 'does-bruise-or-bleed',\n",
    "            'gill-attachment', 'gill-spacing', 'gill-color',\n",
    "            'stem-surface', 'stem-color',\n",
    "            'has-ring', 'ring-type', 'habitat', 'season']\n",
    "\n",
    "df3 = pd.get_dummies(df2, columns=cat_var)"
   ]
  },
  {
   "cell_type": "code",
   "execution_count": 10,
   "id": "0240d5f0",
   "metadata": {},
   "outputs": [
    {
     "data": {
      "text/html": [
       "<div>\n",
       "<style scoped>\n",
       "    .dataframe tbody tr th:only-of-type {\n",
       "        vertical-align: middle;\n",
       "    }\n",
       "\n",
       "    .dataframe tbody tr th {\n",
       "        vertical-align: top;\n",
       "    }\n",
       "\n",
       "    .dataframe thead th {\n",
       "        text-align: right;\n",
       "    }\n",
       "</style>\n",
       "<table border=\"1\" class=\"dataframe\">\n",
       "  <thead>\n",
       "    <tr style=\"text-align: right;\">\n",
       "      <th></th>\n",
       "      <th>class</th>\n",
       "      <th>cap-diameter</th>\n",
       "      <th>stem-height</th>\n",
       "      <th>stem-width</th>\n",
       "      <th>cap-shape_b</th>\n",
       "      <th>cap-shape_c</th>\n",
       "      <th>cap-shape_f</th>\n",
       "      <th>cap-shape_o</th>\n",
       "      <th>cap-shape_p</th>\n",
       "      <th>cap-shape_s</th>\n",
       "      <th>...</th>\n",
       "      <th>habitat_h</th>\n",
       "      <th>habitat_l</th>\n",
       "      <th>habitat_m</th>\n",
       "      <th>habitat_p</th>\n",
       "      <th>habitat_u</th>\n",
       "      <th>habitat_w</th>\n",
       "      <th>season_a</th>\n",
       "      <th>season_s</th>\n",
       "      <th>season_u</th>\n",
       "      <th>season_w</th>\n",
       "    </tr>\n",
       "  </thead>\n",
       "  <tbody>\n",
       "    <tr>\n",
       "      <th>0</th>\n",
       "      <td>p</td>\n",
       "      <td>15.26</td>\n",
       "      <td>16.95</td>\n",
       "      <td>17.09</td>\n",
       "      <td>0</td>\n",
       "      <td>0</td>\n",
       "      <td>0</td>\n",
       "      <td>0</td>\n",
       "      <td>0</td>\n",
       "      <td>0</td>\n",
       "      <td>...</td>\n",
       "      <td>0</td>\n",
       "      <td>0</td>\n",
       "      <td>0</td>\n",
       "      <td>0</td>\n",
       "      <td>0</td>\n",
       "      <td>0</td>\n",
       "      <td>0</td>\n",
       "      <td>0</td>\n",
       "      <td>0</td>\n",
       "      <td>1</td>\n",
       "    </tr>\n",
       "    <tr>\n",
       "      <th>1</th>\n",
       "      <td>p</td>\n",
       "      <td>16.60</td>\n",
       "      <td>17.99</td>\n",
       "      <td>18.19</td>\n",
       "      <td>0</td>\n",
       "      <td>0</td>\n",
       "      <td>0</td>\n",
       "      <td>0</td>\n",
       "      <td>0</td>\n",
       "      <td>0</td>\n",
       "      <td>...</td>\n",
       "      <td>0</td>\n",
       "      <td>0</td>\n",
       "      <td>0</td>\n",
       "      <td>0</td>\n",
       "      <td>0</td>\n",
       "      <td>0</td>\n",
       "      <td>0</td>\n",
       "      <td>0</td>\n",
       "      <td>1</td>\n",
       "      <td>0</td>\n",
       "    </tr>\n",
       "    <tr>\n",
       "      <th>2</th>\n",
       "      <td>p</td>\n",
       "      <td>14.07</td>\n",
       "      <td>17.80</td>\n",
       "      <td>17.74</td>\n",
       "      <td>0</td>\n",
       "      <td>0</td>\n",
       "      <td>0</td>\n",
       "      <td>0</td>\n",
       "      <td>0</td>\n",
       "      <td>0</td>\n",
       "      <td>...</td>\n",
       "      <td>0</td>\n",
       "      <td>0</td>\n",
       "      <td>0</td>\n",
       "      <td>0</td>\n",
       "      <td>0</td>\n",
       "      <td>0</td>\n",
       "      <td>0</td>\n",
       "      <td>0</td>\n",
       "      <td>0</td>\n",
       "      <td>1</td>\n",
       "    </tr>\n",
       "    <tr>\n",
       "      <th>3</th>\n",
       "      <td>p</td>\n",
       "      <td>14.17</td>\n",
       "      <td>15.77</td>\n",
       "      <td>15.98</td>\n",
       "      <td>0</td>\n",
       "      <td>0</td>\n",
       "      <td>1</td>\n",
       "      <td>0</td>\n",
       "      <td>0</td>\n",
       "      <td>0</td>\n",
       "      <td>...</td>\n",
       "      <td>0</td>\n",
       "      <td>0</td>\n",
       "      <td>0</td>\n",
       "      <td>0</td>\n",
       "      <td>0</td>\n",
       "      <td>0</td>\n",
       "      <td>0</td>\n",
       "      <td>0</td>\n",
       "      <td>0</td>\n",
       "      <td>1</td>\n",
       "    </tr>\n",
       "    <tr>\n",
       "      <th>4</th>\n",
       "      <td>p</td>\n",
       "      <td>14.64</td>\n",
       "      <td>16.53</td>\n",
       "      <td>17.20</td>\n",
       "      <td>0</td>\n",
       "      <td>0</td>\n",
       "      <td>0</td>\n",
       "      <td>0</td>\n",
       "      <td>0</td>\n",
       "      <td>0</td>\n",
       "      <td>...</td>\n",
       "      <td>0</td>\n",
       "      <td>0</td>\n",
       "      <td>0</td>\n",
       "      <td>0</td>\n",
       "      <td>0</td>\n",
       "      <td>0</td>\n",
       "      <td>0</td>\n",
       "      <td>0</td>\n",
       "      <td>0</td>\n",
       "      <td>1</td>\n",
       "    </tr>\n",
       "  </tbody>\n",
       "</table>\n",
       "<p>5 rows × 106 columns</p>\n",
       "</div>"
      ],
      "text/plain": [
       "  class  cap-diameter  stem-height  stem-width  cap-shape_b  cap-shape_c  \\\n",
       "0     p         15.26        16.95       17.09            0            0   \n",
       "1     p         16.60        17.99       18.19            0            0   \n",
       "2     p         14.07        17.80       17.74            0            0   \n",
       "3     p         14.17        15.77       15.98            0            0   \n",
       "4     p         14.64        16.53       17.20            0            0   \n",
       "\n",
       "   cap-shape_f  cap-shape_o  cap-shape_p  cap-shape_s  ...  habitat_h  \\\n",
       "0            0            0            0            0  ...          0   \n",
       "1            0            0            0            0  ...          0   \n",
       "2            0            0            0            0  ...          0   \n",
       "3            1            0            0            0  ...          0   \n",
       "4            0            0            0            0  ...          0   \n",
       "\n",
       "   habitat_l  habitat_m  habitat_p  habitat_u  habitat_w  season_a  season_s  \\\n",
       "0          0          0          0          0          0         0         0   \n",
       "1          0          0          0          0          0         0         0   \n",
       "2          0          0          0          0          0         0         0   \n",
       "3          0          0          0          0          0         0         0   \n",
       "4          0          0          0          0          0         0         0   \n",
       "\n",
       "   season_u  season_w  \n",
       "0         0         1  \n",
       "1         1         0  \n",
       "2         0         1  \n",
       "3         0         1  \n",
       "4         0         1  \n",
       "\n",
       "[5 rows x 106 columns]"
      ]
     },
     "execution_count": 10,
     "metadata": {},
     "output_type": "execute_result"
    }
   ],
   "source": [
    "df3.head()"
   ]
  },
  {
   "cell_type": "code",
   "execution_count": 11,
   "id": "a19426d2",
   "metadata": {},
   "outputs": [
    {
     "name": "stdout",
     "output_type": "stream",
     "text": [
      "(61069, 105)\n",
      "(61069,)\n"
     ]
    }
   ],
   "source": [
    "# create X and y matrices\n",
    "X = df3.drop('class', axis=1).values # drop the 'class' column and convert to numpy array\n",
    "y = np.where(df3['class'] == 'p', 1, 0) # create a binary target variable (1 for poisonous, 0 for edible)\n",
    "\n",
    "print(X.shape)\n",
    "print(y.shape)"
   ]
  },
  {
   "cell_type": "code",
   "execution_count": 12,
   "id": "221b29b8",
   "metadata": {},
   "outputs": [
    {
     "name": "stdout",
     "output_type": "stream",
     "text": [
      "[[15.26 16.95 17.09 ...  0.    0.    1.  ]\n",
      " [16.6  17.99 18.19 ...  0.    1.    0.  ]\n",
      " [14.07 17.8  17.74 ...  0.    0.    1.  ]\n",
      " ...\n",
      " [ 1.27  3.86  6.37 ...  0.    1.    0.  ]\n",
      " [ 1.24  3.56  5.44 ...  0.    1.    0.  ]\n",
      " [ 1.17  3.25  5.45 ...  0.    1.    0.  ]]\n"
     ]
    }
   ],
   "source": [
    "print(X)"
   ]
  },
  {
   "cell_type": "code",
   "execution_count": 18,
   "id": "651f47ce",
   "metadata": {},
   "outputs": [],
   "source": [
    "class LogisticRegression:\n",
    "    def __init__(self,learningRate, tolerance, maxIteration, l1=0, l2=0):\n",
    "        self.tolerance = tolerance\n",
    "        self.learningRate = learningRate\n",
    "        self.maxIteration = maxIteration\n",
    "        self.l1 = l1\n",
    "        self.l2 = l2\n",
    "        self.w = None\n",
    "    \n",
    "    def sigmoid(self, z):\n",
    "        sig = 1/(1+np.exp(-z))\n",
    "        return sig\n",
    "\n",
    "    def costFunction(self, X, y):\n",
    "        sig = self.sigmoid(X.dot(self.w))\n",
    "        # approach1\n",
    "        l1_reg = self.l1 * np.sum(np.abs(self.w))\n",
    "        l2_reg = self.l2 * np.sum(self.w ** 2)\n",
    "        cost = (y*np.log(sig)+(1-y)*np.log(1-sig)).sum()+ l1_reg + l2_reg\n",
    "        cost = -cost/X.shape[0]\n",
    "        return cost\n",
    "\n",
    "    def gradient(self, X, y):\n",
    "        sig = self.sigmoid(X.dot(self.w))\n",
    "        L1 = self.l1 * np.sign(self.w)\n",
    "        L2 = self.l2 * (self.w) \n",
    "        gradient = (sig-y).dot(X) + L1 + L2\n",
    "        return gradient\n",
    "    \n",
    "    def gradientDescent(self, X, y):\n",
    "        errors = []\n",
    "        last_error = float('inf')\n",
    "        for i in tqdm(range(self.maxIteration)):\n",
    "            self.w = self.w - self.learningRate * self.gradient(X, y)\n",
    "            current_error = self.costFunction(X, y)\n",
    "            diff = last_error - current_error\n",
    "            last_error = current_error\n",
    "            errors.append(current_error)\n",
    "\n",
    "            if np.abs(diff) < self.tolerance:\n",
    "                print('model stopped learning')\n",
    "                break\n",
    "\n",
    "    def predict(self, X):\n",
    "        sig = self.sigmoid(X.dot(self.w))\n",
    "        return np.around(sig)   \n",
    "    \n",
    "    def evaluate(self, y, y_hat):\n",
    "        y = (y==1)\n",
    "        y_hat = (y_hat == 1)                \n",
    "        recall = (y & y_hat).sum()/y.sum()\n",
    "        precision = (y & y_hat).sum()/y_hat.sum()\n",
    "        f_score = 2*(precision*recall)/(precision+recall)\n",
    "        return f_score, recall, precision\n",
    "    \n",
    "    \n",
    "    def fit(self, X, y):\n",
    "        print('Solving using Gradient Descent')\n",
    "        self.w = np.ones(X_train.shape[1])\n",
    "        \n",
    "        self.gradientDescent(X, y)\n",
    "        \n",
    "        y_train_hat = self.predict(X_train)\n",
    "        f_score, recall, precision = self.evaluate(y_train, y_train_hat)\n",
    "        print('Training F1 score {}'.format(f_score))\n",
    "        print('Training recall score {}'.format(recall))\n",
    "        print('Training precision score {}'.format(precision))\n",
    "    \n"
   ]
  },
  {
   "cell_type": "code",
   "execution_count": 20,
   "id": "4b70cd0a",
   "metadata": {},
   "outputs": [],
   "source": [
    "lr = LogisticRegression(learningRate = 0.0001, tolerance = 0.00005, maxIteration = 1000, l1=0.9, l2=0.01)"
   ]
  },
  {
   "cell_type": "code",
   "execution_count": 15,
   "id": "1ae2c575",
   "metadata": {},
   "outputs": [
    {
     "name": "stdout",
     "output_type": "stream",
     "text": [
      "Solving using Gradient Descent\n"
     ]
    },
    {
     "name": "stderr",
     "output_type": "stream",
     "text": [
      "  0%|                                                                                         | 0/1000 [00:00<?, ?it/s]C:\\Users\\suraj\\AppData\\Local\\Temp\\ipykernel_21196\\933153728.py:17: RuntimeWarning: overflow encountered in exp\n",
      "  sig = 1/(1+np.exp(-z))\n",
      "C:\\Users\\suraj\\AppData\\Local\\Temp\\ipykernel_21196\\933153728.py:25: RuntimeWarning: divide by zero encountered in log\n",
      "  cost = (y*np.log(sig)+(1-y)*np.log(1-sig)).sum()+ l1_reg + l2_reg\n",
      "C:\\Users\\suraj\\AppData\\Local\\Temp\\ipykernel_21196\\933153728.py:25: RuntimeWarning: invalid value encountered in multiply\n",
      "  cost = (y*np.log(sig)+(1-y)*np.log(1-sig)).sum()+ l1_reg + l2_reg\n",
      "100%|██████████████████████████████████████████████████████████████████████████████| 1000/1000 [00:18<00:00, 55.47it/s]\n"
     ]
    },
    {
     "name": "stdout",
     "output_type": "stream",
     "text": [
      "Training F1 score 0.7374734766845438\n",
      "Training recall score 0.9366777013835837\n",
      "Training precision score 0.6081397591689399\n"
     ]
    }
   ],
   "source": [
    "lr.fit(X)"
   ]
  },
  {
   "cell_type": "code",
   "execution_count": null,
   "id": "0657617d",
   "metadata": {},
   "outputs": [],
   "source": []
  },
  {
   "cell_type": "code",
   "execution_count": null,
   "id": "9b2e89d7",
   "metadata": {},
   "outputs": [],
   "source": []
  }
 ],
 "metadata": {
  "kernelspec": {
   "display_name": "Python 3 (ipykernel)",
   "language": "python",
   "name": "python3"
  },
  "language_info": {
   "codemirror_mode": {
    "name": "ipython",
    "version": 3
   },
   "file_extension": ".py",
   "mimetype": "text/x-python",
   "name": "python",
   "nbconvert_exporter": "python",
   "pygments_lexer": "ipython3",
   "version": "3.9.13"
  }
 },
 "nbformat": 4,
 "nbformat_minor": 5
}
